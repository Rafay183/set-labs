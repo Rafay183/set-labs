{
 "cells": [
  {
   "cell_type": "code",
   "execution_count": 1,
   "id": "0faa4c86",
   "metadata": {},
   "outputs": [
    {
     "name": "stdout",
     "output_type": "stream",
     "text": [
      "helloworld\n"
     ]
    }
   ],
   "source": [
    "print(\"helloworld\")"
   ]
  },
  {
   "cell_type": "code",
   "execution_count": 2,
   "id": "74bf2210",
   "metadata": {},
   "outputs": [],
   "source": [
    "a=b=c =4"
   ]
  },
  {
   "cell_type": "code",
   "execution_count": 3,
   "id": "7ce963bf",
   "metadata": {},
   "outputs": [
    {
     "data": {
      "text/plain": [
       "4"
      ]
     },
     "execution_count": 3,
     "metadata": {},
     "output_type": "execute_result"
    }
   ],
   "source": [
    "a"
   ]
  },
  {
   "cell_type": "code",
   "execution_count": 4,
   "id": "74fffa0b",
   "metadata": {},
   "outputs": [
    {
     "data": {
      "text/plain": [
       "4"
      ]
     },
     "execution_count": 4,
     "metadata": {},
     "output_type": "execute_result"
    }
   ],
   "source": [
    "b"
   ]
  },
  {
   "cell_type": "code",
   "execution_count": 5,
   "id": "3379c943",
   "metadata": {},
   "outputs": [
    {
     "data": {
      "text/plain": [
       "4"
      ]
     },
     "execution_count": 5,
     "metadata": {},
     "output_type": "execute_result"
    }
   ],
   "source": [
    "c"
   ]
  },
  {
   "cell_type": "code",
   "execution_count": 9,
   "id": "507e73b1",
   "metadata": {},
   "outputs": [
    {
     "name": "stdout",
     "output_type": "stream",
     "text": [
      "Enter your first name: Muhammad \n",
      "Enter your Middle Name: Rafay \n",
      "Enter your Last Name: Shaikh\n",
      "Muhammad Rafay Shaikh\n"
     ]
    }
   ],
   "source": [
    "first_name = str(input(\"Enter your first name: \"))\n",
    "middle_name = str(input(\"Enter your Middle Name: \"))\n",
    "Last_name = str(input(\"Enter your Last Name: \"))\n",
    "print(first_name + middle_name + Last_name)"
   ]
  },
  {
   "cell_type": "code",
   "execution_count": 11,
   "id": "53119a5f",
   "metadata": {},
   "outputs": [],
   "source": [
    "a = 2 % 2 + 2 * 2 - 2 / 2;"
   ]
  },
  {
   "cell_type": "code",
   "execution_count": 12,
   "id": "f9fdee6e",
   "metadata": {},
   "outputs": [
    {
     "data": {
      "text/plain": [
       "3.0"
      ]
     },
     "execution_count": 12,
     "metadata": {},
     "output_type": "execute_result"
    }
   ],
   "source": [
    "a"
   ]
  },
  {
   "cell_type": "code",
   "execution_count": 13,
   "id": "7ea15640",
   "metadata": {},
   "outputs": [
    {
     "name": "stdout",
     "output_type": "stream",
     "text": [
      "Enter the Number of Table you want: 5\n",
      "5 x 1 = 5\n",
      "5 x 2 = 10\n",
      "5 x 3 = 15\n",
      "5 x 4 = 20\n",
      "5 x 5 = 25\n",
      "5 x 6 = 30\n",
      "5 x 7 = 35\n",
      "5 x 8 = 40\n",
      "5 x 9 = 45\n",
      "5 x 10 = 50\n"
     ]
    }
   ],
   "source": [
    "n = int(input(\"Enter the Number of Table you want: \"))\n",
    "for i in range (1,11):\n",
    "    print(n,\"x\",i,\"=\",n*i )"
   ]
  },
  {
   "cell_type": "code",
   "execution_count": 14,
   "id": "c1b1d1f3",
   "metadata": {},
   "outputs": [
    {
     "name": "stdout",
     "output_type": "stream",
     "text": [
      "Enter 1st number : 6\n",
      "Enter 2nd Number: 7\n",
      "Select 1-4 : \n",
      "1 for Addition \n",
      " 2 for Substraction \n",
      " 3 for multiply \n",
      " 4 for divide\n",
      "Enter your method from 1 to 4: 4\n",
      "0.8571428571428571\n"
     ]
    }
   ],
   "source": [
    "\n",
    "num1 = float(input(\"Enter 1st number : \"))\n",
    "num2 = float(input(\"Enter 2nd Number: \"))\n",
    "\n",
    "\n",
    "print (\"Select 1-4 : \\n1 for Addition \\n 2 for Substraction \\n 3 for multiply \\n 4 for divide\")\n",
    "\n",
    "choice = int(input(\"Enter your method from 1 to 4: \"))\n",
    "\n",
    "\n",
    "if choice == 1:\n",
    "    print(num1 + num2)\n",
    "elif choice ==2:\n",
    "    print(num1 - num2)\n",
    "elif choice == 3:\n",
    "    print(num1 * num2)\n",
    "elif choice == 4:\n",
    "    print(num1/num2)\n",
    "\n",
    "else:\n",
    "    print(\"Invalid input\")"
   ]
  },
  {
   "cell_type": "code",
   "execution_count": null,
   "id": "57f6dea5",
   "metadata": {},
   "outputs": [],
   "source": []
  }
 ],
 "metadata": {
  "kernelspec": {
   "display_name": "Python 3 (ipykernel)",
   "language": "python",
   "name": "python3"
  },
  "language_info": {
   "codemirror_mode": {
    "name": "ipython",
    "version": 3
   },
   "file_extension": ".py",
   "mimetype": "text/x-python",
   "name": "python",
   "nbconvert_exporter": "python",
   "pygments_lexer": "ipython3",
   "version": "3.11.3"
  }
 },
 "nbformat": 4,
 "nbformat_minor": 5
}
